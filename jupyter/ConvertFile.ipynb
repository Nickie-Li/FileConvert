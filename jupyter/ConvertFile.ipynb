{
 "cells": [
  {
   "cell_type": "code",
   "execution_count": 7,
   "metadata": {},
   "outputs": [],
   "source": [
    "import os\n",
    "import zipfile\n",
    "import chardet\n",
    "import codecs\n",
    "import sys\n",
    "import shutil\n",
    "import re\n",
    "from hanziconv import HanziConv\n",
    "import easygui\n",
    "import mimetypes\n",
    "from time import gmtime, strftime"
   ]
  },
  {
   "cell_type": "code",
   "execution_count": 8,
   "metadata": {},
   "outputs": [],
   "source": [
    "def backup_to_zip(path):\n",
    "    fname = \"backup\" + '_' + strftime(\"%Y%m%d_%H%M\", gmtime()) + '.zip'\n",
    "    zipf = zipfile.ZipFile(fname, 'w', zipfile.ZIP_DEFLATED)\n",
    "    for root, dirs, files in os.walk(path):\n",
    "        for file in files:\n",
    "            zipf.write(os.path.join(root, file))\n",
    "    zipf.close()"
   ]
  },
  {
   "cell_type": "code",
   "execution_count": 9,
   "metadata": {},
   "outputs": [],
   "source": [
    "def backup(file):\n",
    "    name = (\".\").join(file.split(\".\")[:-1])\n",
    "    filetype = file.split(\".\")[-1]\n",
    "    shutil.copy(file, name + \"_backup.\" + filetype)"
   ]
  },
  {
   "cell_type": "code",
   "execution_count": 10,
   "metadata": {},
   "outputs": [],
   "source": [
    "def convert_encoding_to_utf_8(filename):\n",
    "    global total_cnt,success_cnt\n",
    "\n",
    "    flag1 = True\n",
    "    flag2 = True\n",
    "    flag3 = True\n",
    "    content = codecs.open(filename, 'rb').read()\n",
    "    source_encoding = chardet.detect(content)['encoding']\n",
    "    total_cnt+=1\n",
    "    \n",
    "    filename_trans = HanziConv.toTraditional(filename)\n",
    "    if(filename_trans == filename):\n",
    "        flag1 = False\n",
    "        \n",
    "        \n",
    "    if source_encoding != 'utf-8' and source_encoding != 'UTF-8-SIG':\n",
    "        content = content.decode(source_encoding, 'ignore') #.encode(source_encoding)\n",
    "    else:\n",
    "        flag2 = False\n",
    "        \n",
    "    content_trans = HanziConv.toTraditional(content)\n",
    "    if(content_trans == content):\n",
    "        flag3 = False\n",
    "    \n",
    "    if(flag1 or flag2 or flag3):\n",
    "        backup(filename)\n",
    "        os.rename(filename, filename_trans)\n",
    "    \n",
    "        with open(filename_trans, 'w', encoding='UTF-8-SIG') as file:\n",
    "            file.write(content_trans)\n",
    "        success_cnt+=1"
   ]
  },
  {
   "cell_type": "code",
   "execution_count": 11,
   "metadata": {},
   "outputs": [],
   "source": [
    "def convert_dir(root_dir):\n",
    "    if os.path.exists(root_dir) == False:\n",
    "        print(\"[error] dir:\",root_dir,\"do not exit\")\n",
    "        return\n",
    "    print(\"work in\", root_dir)\n",
    "    for root, dirs, files in os.walk(root_dir):\n",
    "        root_trans = HanziConv.toTraditional(root)\n",
    "        if(root_trans != root):\n",
    "            os.rename(root, root_trans)\n",
    "        print(root_trans)\n",
    "        for f in files:\n",
    "            filename = os.path.join(root_trans, f)\n",
    "            try:\n",
    "                convert_encoding_to_utf_8(filename)\n",
    "            except:\n",
    "                print(\"Fail Convert\",filename)\n",
    "    print(\"finish total:\",total_cnt,\"success:\",success_cnt)"
   ]
  },
  {
   "cell_type": "code",
   "execution_count": 14,
   "metadata": {},
   "outputs": [
    {
     "name": "stdout",
     "output_type": "stream",
     "text": [
      "work in C:\\Users\\quann\\Desktop\\file\n",
      "C:\\Users\\quann\\Desktop\\file\n",
      "C:\\Users\\quann\\Desktop\\file\\file\n",
      "C:\\Users\\quann\\Desktop\\file\\file\\王妃哦附件為哦\n",
      "finish total: 2 success: 2\n"
     ]
    }
   ],
   "source": [
    "if __name__ == '__main__':\n",
    "    path = easygui.enterbox(\"Please enter the path of file that you want to convert:\")\n",
    "    total_cnt = 0\n",
    "    success_cnt = 0\n",
    "    backup_to_zip(path)\n",
    "    convert_dir(path)"
   ]
  },
  {
   "cell_type": "code",
   "execution_count": null,
   "metadata": {},
   "outputs": [],
   "source": [
    "Is Name in {\"sniffix.set\"}?\n",
    "    if True:\n",
    "        check file encoding utf-8?\n",
    "    else:\n",
    "        convert utf-8"
   ]
  },
  {
   "cell_type": "code",
   "execution_count": 3,
   "metadata": {},
   "outputs": [
    {
     "data": {
      "text/plain": [
       "'私は駅にいます發窘範文芳'"
      ]
     },
     "execution_count": 3,
     "metadata": {},
     "output_type": "execute_result"
    }
   ],
   "source": [
    "HanziConv.toTraditional(\"私は駅にいます\")"
   ]
  },
  {
   "cell_type": "code",
   "execution_count": null,
   "metadata": {},
   "outputs": [],
   "source": []
  }
 ],
 "metadata": {
  "kernelspec": {
   "display_name": "Python 3",
   "language": "python",
   "name": "python3"
  },
  "language_info": {
   "codemirror_mode": {
    "name": "ipython",
    "version": 3
   },
   "file_extension": ".py",
   "mimetype": "text/x-python",
   "name": "python",
   "nbconvert_exporter": "python",
   "pygments_lexer": "ipython3",
   "version": "3.7.4"
  }
 },
 "nbformat": 4,
 "nbformat_minor": 2
}
